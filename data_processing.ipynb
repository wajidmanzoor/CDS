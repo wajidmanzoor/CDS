{
 "cells": [
  {
   "cell_type": "code",
   "execution_count": 5,
   "metadata": {},
   "outputs": [],
   "source": [
    "file_ = open(\"ca-HepTh.txt\\CA-HepTh.txt\", \"r\")"
   ]
  },
  {
   "cell_type": "code",
   "execution_count": 6,
   "metadata": {},
   "outputs": [],
   "source": [
    "data = file_.readlines()"
   ]
  },
  {
   "cell_type": "code",
   "execution_count": 15,
   "metadata": {},
   "outputs": [],
   "source": [
    "nodes = set()\n",
    "for line in data[4:]:\n",
    "    u,v = list(map(int,line.split(\"\\t\")))\n",
    "    nodes.add(u)\n",
    "    nodes.add(v)\n",
    "    \n",
    "    "
   ]
  },
  {
   "cell_type": "code",
   "execution_count": 16,
   "metadata": {},
   "outputs": [],
   "source": [
    "nodes = list(nodes)"
   ]
  },
  {
   "cell_type": "code",
   "execution_count": 17,
   "metadata": {},
   "outputs": [],
   "source": [
    "nodes.sort()"
   ]
  },
  {
   "cell_type": "code",
   "execution_count": 19,
   "metadata": {},
   "outputs": [],
   "source": [
    "def convert_edge_list_to_adjacency_list(edge_list_file, adjacency_list_file):\n",
    "    \"\"\"\n",
    "    Convert an edge list from a text file to an adjacency list with consistent vertex numbering.\n",
    "    \n",
    "    Arguments:\n",
    "    edge_list_file -- Path to the input file containing the edge list\n",
    "    adjacency_list_file -- Path to the output file where adjacency list will be written\n",
    "    \n",
    "    Format of the output file:\n",
    "    - First line: Total number of vertices\n",
    "    - Remaining lines: Vertex followed by its neighbors separated by spaces\n",
    "    \"\"\"\n",
    "    # Read the edge list file\n",
    "    edges = []\n",
    "    with open(edge_list_file, 'r') as f:\n",
    "        for line in f:\n",
    "            # Skip empty lines or comments\n",
    "            if not line.strip() or line.strip().startswith('#'):\n",
    "                continue\n",
    "            \n",
    "            # Parse the edge\n",
    "            parts = line.strip().split()\n",
    "            if len(parts) >= 2:\n",
    "                u, v = int(parts[0]), int(parts[1])\n",
    "                edges.append((u, v))\n",
    "    \n",
    "    # Find all unique vertices\n",
    "    vertices = set()\n",
    "    for u, v in edges:\n",
    "        vertices.add(u)\n",
    "        vertices.add(v)\n",
    "    \n",
    "    # Create a mapping from original vertex IDs to new IDs (0 to n-1)\n",
    "    vertex_mapping = {original: new for new, original in enumerate(sorted(vertices))}\n",
    "    reverse_mapping = {new: original for original, new in vertex_mapping.items()}\n",
    "    \n",
    "    # Create the adjacency list using the new vertex IDs\n",
    "    adjacency_list = [[] for _ in range(len(vertices))]\n",
    "    for u, v in edges:\n",
    "        new_u = vertex_mapping[u]\n",
    "        new_v = vertex_mapping[v]\n",
    "        adjacency_list[new_u].append(new_v)\n",
    "        # If the graph is undirected, uncomment the following line\n",
    "        adjacency_list[new_v].append(new_u)\n",
    "    \n",
    "    # Write the adjacency list to the output file\n",
    "    with open(adjacency_list_file, 'w') as f:\n",
    "        # First line: total number of vertices\n",
    "        f.write(f\"{len(vertices)}\\n\")\n",
    "        \n",
    "        # Remaining lines: vertex and its neighbors\n",
    "        for vertex in range(len(vertices)):\n",
    "            neighbors = sorted(adjacency_list[vertex])  # Sort neighbors for readability\n",
    "            line = f\"{vertex} {' '.join(map(str, neighbors))}\\n\"\n",
    "            f.write(line)\n",
    "    \n",
    "    return vertex_mapping, reverse_mapping\n",
    "\n"
   ]
  },
  {
   "cell_type": "code",
   "execution_count": 23,
   "metadata": {},
   "outputs": [
    {
     "name": "stdout",
     "output_type": "stream",
     "text": [
      "Conversion complete. Wrote adjacency list to ./as_caida.txt\n",
      "Total vertices: 6474\n"
     ]
    }
   ],
   "source": [
    "\n",
    "   \n",
    "    \n",
    "edge_list_file = \"as20000102.txt/as20000102.txt\"\n",
    "adjacency_list_file = \"./as_caida.txt\"\n",
    "\n",
    "vertex_mapping, reverse_mapping = convert_edge_list_to_adjacency_list(edge_list_file, adjacency_list_file)\n",
    "\n",
    "print(f\"Conversion complete. Wrote adjacency list to {adjacency_list_file}\")\n",
    "print(f\"Total vertices: {len(vertex_mapping)}\")"
   ]
  },
  {
   "cell_type": "markdown",
   "metadata": {},
   "source": []
  }
 ],
 "metadata": {
  "kernelspec": {
   "display_name": "Python 3",
   "language": "python",
   "name": "python3"
  },
  "language_info": {
   "codemirror_mode": {
    "name": "ipython",
    "version": 3
   },
   "file_extension": ".py",
   "mimetype": "text/x-python",
   "name": "python",
   "nbconvert_exporter": "python",
   "pygments_lexer": "ipython3",
   "version": "3.11.9"
  }
 },
 "nbformat": 4,
 "nbformat_minor": 2
}
