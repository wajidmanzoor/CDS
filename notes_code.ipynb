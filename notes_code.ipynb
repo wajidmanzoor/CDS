{
 "cells": [
  {
   "cell_type": "markdown",
   "metadata": {},
   "source": [
    "# Overall view \n",
    "\n",
    "1. Read the graph and store in adjancey list.\n",
    "    - the text file is adjancacey list seperated by space with first line the number of vertices\n",
    "2.  Read the motif as adjancey matrix \n",
    "    - the text file is edge list with first line number of vertices, type of motif and motf count\n",
    "    - don't know what type motif means \n",
    "    \n",
    "3. Clique core decompose, core decompose but instead of degree use motif degree ``CDSdecompose.decompose``\n",
    "    -  Count all k -cliques of graph to get the motif degree of each vertex. Here K is user definded ``KList.ListFast``\n",
    "    - peeling algorithm to determine the k - clique core values of all verticies\n",
    "    - return motif data \n",
    "\n",
    "        5 columns, n + 1 rows, \n",
    "        - columns 0 : vertex removed in step i (index) of peeling algotithm. I.e verticies in ascending order of clique core value\n",
    "        - column 1 : motif degree of vertex before deletion.\n",
    "        - column 2 : average motif density of graph after removing the vertex\n",
    "        - column 3 : Total motifs in graph after removing the vertex \n",
    "        - column 4 : core value of the removed vertex\n",
    "\n",
    "        - row 0 : no vertex is stores rest data is of graph before no - vertex is removed \n",
    "        - row 1 : first vertex removed and the rest data \n",
    "        - and so on \n",
    "\n",
    "4. Locate the k - $\\psi$ clique core from the graph, k is definded as the lower bound ``LocateCore.locate``\n",
    "    -   Based of each core, average motif density, select the core with maximum average motif density and set that core values as the lower bound \n",
    "    - remove verticies that are not part of k - $\\psi$ clique core \n",
    "    - create new graph, new motif data\n",
    "    - return \n",
    "        - new graph, new graph size, \n",
    "        - lower bound (core value), \n",
    "        - index of deleted vertex in motif records (before which all verticies were removed)\n",
    "        - num of deleted motifs, \n",
    "        - average motif density of current graph, \n",
    "        - maximum clique core value.  \n",
    "5. List all k-cliques and update the clique core values in the new graph returned in step 4. ``KList.ListRecords``\n",
    "    - Returns \n",
    "    - same motif data structure \n",
    "    - motif statiscis - map of all cliques.  key is string and value is array of verticies in clique plus 1 representing motif count e.g '0-1-2' $\\rightarrow$ (0, 1, 2, 1)\n",
    "\n",
    "6. Remove edges that are not part of any clique ``InvalidEdgePruning.Prune``\n",
    "    - returns \n",
    "        -   the new graph that only includes the edges that are part of any clique\n",
    "        -   number of removed edges  \n",
    "\n",
    "7. Locates all the connected components in the new graph (step 6). ``ComponentDecom.decompose``\n",
    "    - Performs BFS to find all the connected components\n",
    "    - returns \n",
    "        - Queue of all the connected components\n",
    "        - each object in queue contains information \n",
    "            - new graph (connected component)\n",
    "            - new graph size\n",
    "            - new motif data\n",
    "            - total motifs in component \n",
    "            - average motif density of conponent\n",
    "            - motif degree of each vertex\n",
    "8. Run the core exact algorithm to find the density subgraph is all the connected components. ``DynamicExactalgo.DynamicExact``\n",
    "    - returns \n",
    "        -   max average motif density\n",
    "        -   motif number \n",
    "        -   total vertex \n",
    "        -   connected component  \n",
    "\n",
    "\n",
    "\n"
   ]
  },
  {
   "cell_type": "markdown",
   "metadata": {},
   "source": [
    "# Details of each Function "
   ]
  },
  {
   "attachments": {
    "exampleGraph.png": {
     "image/png": "[encoded data removed]"
    }
   },
   "cell_type": "markdown",
   "metadata": {},
   "source": [
    "![exampleGraph.png](attachment:exampleGraph.png)"
   ]
  },
  {
   "cell_type": "markdown",
   "metadata": {},
   "source": [
    "## CDSdecompose.decompose (step 3)\n",
    "\n",
    "1. Count all k - cliques in the graph to get the motif degree of each vertex. ``KList.ListFast``\n",
    "    - motif degree = [3, 3, 4, 4, 1, 0]\n",
    "2.  intialize data structure to store the motif data (described in step 3 of overall)\n",
    "3.  Create a bin of all motif degrees. that is index i $\\rightarrow$ numer of verrices with motif degree i. \n",
    "    - motif bin  = [1, 1, 0, 2, 2, 0]\n",
    "\n",
    "4. Do a cumulaive prefix sum of the bin arrays \n",
    "    - cumilative sum = new bin = [0, 1, 2, 2, 4, 6]\n",
    "5. Sort in accesing order kinda like bucket sort\n",
    "   - vert: stores the verticies by motif degree ascending order\n",
    "   - pos: sorts the position of vertx in storted array\n",
    "\n",
    "   algo:\n",
    "    1. iter through the vertex: \n",
    "    2. set pos[v] = bin[motifDegree[v]]\n",
    "    3. vert[pos[v]] = v \n",
    "    4. bin[motifDegree[v]] += 1\n",
    "\n",
    "    | Vertex | Motif Degree | Bin | Position | Vert | Bin Array       | Pos Array       | Vert Array       |\n",
    "    |--------|--------------|-----|----------|------|-----------------|-----------------|------------------|\n",
    "    |    0   |      3       |  2  | 0 --> 2  |2 --> 0| [0, 1, 2, 3, 4, 6]    | [2, -, -, -, -, -]   | [-, -, 0, -, -, -]    |\n",
    "    |    1   |      3       |  3  | 1 --> 3  | 3-->1 | [0, 1, 2, 4, 4, 6]    | [2, 3, -, -, -, -]   | [-, -, 0, 1, -, -]    |\n",
    "    |    2   |      4       |  4  | 2 --> 4  |4 -->2 | [0, 1, 2, 4, 5, 6]    | [2, 3, 4, -, -, -]   | [-, -, 0, 1, 2, -]    |\n",
    "    |    3   |      4       |  5  | 3 -->5   |5 -->3 | [0, 1, 2, 4, 6, 6]    | [2, 3, 4, 5, -, -]   | [-, -, 0, 1, 2, 3]    |\n",
    "    |    4   |      1       |  1  | 4 -->1   |1 -->4 | [0, 2, 2, 4, 6, 6]    | [2, 3, 4, 5, 1, -]   | [-, 4, 0, 1, 2, 3]    |\n",
    "    |    5   |      0       |  0  | 5 -->0   |0 -->5 | [1, 2, 2, 4, 6, 6]    | [2, 3, 4, 5, 1, 0]   | [5, 4, 0, 1, 2, 3]    |\n",
    "\n",
    "6. Peeling clique core decomposition \n",
    "\n",
    "    Algo\n",
    "    1. Iter through vertex $v$\n",
    "    2. find index of the vertex with minimum motif degree\n",
    "    3. Extract neighborhood arround the vertex $v$ which is at max 2 hops away, and get the motif degree of the verticies in neighborhood (motif degree only because of cliques that include the vertex $v$ ) ``Generate``\n",
    "    return\n",
    "        -  maps of vertex $\\rightarrow$ motif degree\n",
    "        - count of verticies removed\n",
    "    4. iter through the map (step3):\n",
    "        1. increament the deleted motif count $count_{dm}$\n",
    "        2. decrease the motif degree of the vertex\n",
    "    5. decrease motif count by $count_{dm}$ in motif data at row $v+1$\n",
    "    6. update the average motif density in motif data row number vertex removed $v+1$ as vertex and motif count changed \n",
    "    "
   ]
  },
  {
   "cell_type": "markdown",
   "metadata": {},
   "source": []
  }
 ],
 "metadata": {
  "kernelspec": {
   "display_name": "Python 3",
   "language": "python",
   "name": "python3"
  },
  "language_info": {
   "codemirror_mode": {
    "name": "ipython",
    "version": 3
   },
   "file_extension": ".py",
   "mimetype": "text/x-python",
   "name": "python",
   "nbconvert_exporter": "python",
   "pygments_lexer": "ipython3",
   "version": "3.11.9"
  }
 },
 "nbformat": 4,
 "nbformat_minor": 2
}
