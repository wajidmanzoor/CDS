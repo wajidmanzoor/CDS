{
 "cells": [
  {
   "cell_type": "code",
   "execution_count": 3,
   "id": "e4fb1967",
   "metadata": {},
   "outputs": [],
   "source": [
    "import os"
   ]
  },
  {
   "cell_type": "code",
   "execution_count": 4,
   "id": "0df870f4",
   "metadata": {},
   "outputs": [],
   "source": [
    "files = os.listdir(\"./\")"
   ]
  },
  {
   "cell_type": "code",
   "execution_count": 6,
   "id": "bc7e534f",
   "metadata": {},
   "outputs": [],
   "source": [
    "files.remove('script.ipynb')"
   ]
  },
  {
   "cell_type": "code",
   "execution_count": 11,
   "id": "abb8b354",
   "metadata": {},
   "outputs": [],
   "source": [
    "files.remove(\"final.txt\")"
   ]
  },
  {
   "cell_type": "code",
   "execution_count": 12,
   "id": "4e77b1e6",
   "metadata": {},
   "outputs": [
    {
     "data": {
      "text/plain": [
       "['emails.log',\n",
       " 'Deezer.log',\n",
       " 'crocodileWikipedia.log',\n",
       " 'coauthoring.log',\n",
       " 'AutonomousSystems.log',\n",
       " 'randomGraph5.log',\n",
       " 'randomGraph4.log',\n",
       " 'randomGraph3.log',\n",
       " 'randomGraph2.log',\n",
       " 'randomGraph1.log']"
      ]
     },
     "execution_count": 12,
     "metadata": {},
     "output_type": "execute_result"
    }
   ],
   "source": [
    "files"
   ]
  },
  {
   "cell_type": "code",
   "execution_count": 12,
   "id": "60cfdcb1",
   "metadata": {},
   "outputs": [],
   "source": [
    "f = open(files[-1])"
   ]
  },
  {
   "cell_type": "code",
   "execution_count": 13,
   "id": "6e8f362b",
   "metadata": {},
   "outputs": [],
   "source": [
    "data = f.readlines()"
   ]
  },
  {
   "cell_type": "code",
   "execution_count": 15,
   "id": "59275143",
   "metadata": {},
   "outputs": [
    {
     "data": {
      "text/plain": [
       "'Max density: 5.22923\\n'"
      ]
     },
     "execution_count": 15,
     "metadata": {},
     "output_type": "execute_result"
    }
   ],
   "source": [
    "data[-2]"
   ]
  },
  {
   "cell_type": "code",
   "execution_count": 17,
   "id": "a69f6e72",
   "metadata": {},
   "outputs": [
    {
     "data": {
      "text/plain": [
       "'emails'"
      ]
     },
     "execution_count": 17,
     "metadata": {},
     "output_type": "execute_result"
    }
   ],
   "source": [
    "files[0].split(\".\")[0]"
   ]
  },
  {
   "cell_type": "code",
   "execution_count": 13,
   "id": "186b95dc",
   "metadata": {},
   "outputs": [],
   "source": [
    "text = \"\"\n",
    "for file_ in files:\n",
    "    text += file_.split(\".\")[0]\n",
    "    text += \"\\n\"\n",
    "    with open(file_) as f:\n",
    "        data = f.readlines()\n",
    "        text += data[-2]\n",
    "        text += data[-1]\n",
    "        text += \"\\n\""
   ]
  },
  {
   "cell_type": "code",
   "execution_count": 14,
   "id": "443535fc",
   "metadata": {},
   "outputs": [],
   "source": [
    "with open(\"final.txt\",'w') as f:\n",
    "    f.write(text)"
   ]
  },
  {
   "cell_type": "code",
   "execution_count": 21,
   "id": "93286982",
   "metadata": {},
   "outputs": [
    {
     "data": {
      "text/plain": [
       "['emails.log',\n",
       " 'Deezer.log',\n",
       " 'crocodileWikipedia.log',\n",
       " 'coauthoring.log',\n",
       " 'AutonomousSystems.log',\n",
       " 'randomGraph5.log',\n",
       " 'randomGraph4.log',\n",
       " 'randomGraph3.log',\n",
       " 'randomGraph2.log',\n",
       " 'randomGraph1.log']"
      ]
     },
     "execution_count": 21,
     "metadata": {},
     "output_type": "execute_result"
    }
   ],
   "source": [
    "files"
   ]
  },
  {
   "cell_type": "code",
   "execution_count": null,
   "id": "df195fbe",
   "metadata": {},
   "outputs": [],
   "source": []
  }
 ],
 "metadata": {
  "kernelspec": {
   "display_name": "wajid",
   "language": "python",
   "name": "python3"
  },
  "language_info": {
   "codemirror_mode": {
    "name": "ipython",
    "version": 3
   },
   "file_extension": ".py",
   "mimetype": "text/x-python",
   "name": "python",
   "nbconvert_exporter": "python",
   "pygments_lexer": "ipython3",
   "version": "3.13.5"
  }
 },
 "nbformat": 4,
 "nbformat_minor": 5
}
